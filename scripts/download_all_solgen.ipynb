{
 "cells": [
  {
   "cell_type": "code",
   "execution_count": 1,
   "metadata": {},
   "outputs": [
    {
     "name": "stderr",
     "output_type": "stream",
     "text": [
      "/iris/u/asap7772/miniconda3/envs/verl/lib/python3.10/site-packages/tqdm/auto.py:21: TqdmWarning: IProgress not found. Please update jupyter and ipywidgets. See https://ipywidgets.readthedocs.io/en/stable/user_install.html\n",
      "  from .autonotebook import tqdm as notebook_tqdm\n",
      "Generating train split: 100%|██████████| 12853/12853 [00:00<00:00, 22528.39 examples/s]\n",
      "Creating parquet from Arrow format: 100%|██████████| 12/12 [00:00<00:00, 14.48ba/s]\n",
      "Creating parquet from Arrow format: 100%|██████████| 2/2 [00:00<00:00, 44.37ba/s]\n",
      "Generating train split: 100%|██████████| 12853/12853 [00:00<00:00, 18877.48 examples/s]\n",
      "Creating parquet from Arrow format: 100%|██████████| 12/12 [00:00<00:00, 12.00ba/s]\n",
      "Creating parquet from Arrow format: 100%|██████████| 2/2 [00:00<00:00, 45.12ba/s]\n",
      "Generating train split: 100%|██████████| 2493/2493 [00:00<00:00, 22493.85 examples/s]\n",
      "Creating parquet from Arrow format: 100%|██████████| 3/3 [00:00<00:00, 17.72ba/s]\n",
      "Creating parquet from Arrow format: 100%|██████████| 1/1 [00:00<00:00, 119.16ba/s]\n",
      "Generating train split: 100%|██████████| 2493/2493 [00:00<00:00, 18007.29 examples/s]\n",
      "Creating parquet from Arrow format: 100%|██████████| 3/3 [00:00<00:00, 15.21ba/s]\n",
      "Creating parquet from Arrow format: 100%|██████████| 1/1 [00:00<00:00, 111.08ba/s]\n"
     ]
    }
   ],
   "source": [
    "import datasets\n",
    "\n",
    "curr_datasets = [\n",
    "    'Asap7772/d1shs0ap-easy-hintgen-qwen3-4b-lr1e6-verl-mixTrue-nochat',\n",
    "    'Asap7772/d1shs0ap-easy-hintgen-qwen3-4b-lr1e6-verl-mixFalse-nochat',\n",
    "    'Asap7772/d1shs0ap-medium_2500-hintgen-qwen3-4b-lr1e6-verl-mixTrue-nochat',\n",
    "    'Asap7772/d1shs0ap-medium_2500-hintgen-qwen3-4b-lr1e6-verl-mixFalse-nochat',\n",
    "]\n",
    "\n",
    "for dataset in curr_datasets:\n",
    "    ds = datasets.load_dataset(dataset, split='train')\n",
    "    ds = ds.train_test_split(test_size=0.1, seed=42)\n",
    "\n",
    "    which_mix = 'mixTrue' if 'mixTrue' in dataset else 'mixFalse'\n",
    "    if 'easy' in dataset:\n",
    "        base_path = f'/iris/u/asap7772/rl_behaviors_verl_stable/data_d1shs0ap-easy-{which_mix}-nochat'\n",
    "    elif 'medium_2500' in dataset:\n",
    "        base_path = f'/iris/u/asap7772/rl_behaviors_verl_stable/data_d1shs0ap-medium_2500-{which_mix}-nochat'\n",
    "    else:\n",
    "        raise ValueError(f'Unknown dataset: {dataset}')\n",
    "\n",
    "    ds['train'].to_parquet(f'{base_path}/train.parquet')\n",
    "    ds['test'].to_parquet(f'{base_path}/test.parquet')"
   ]
  },
  {
   "cell_type": "code",
   "execution_count": 1,
   "metadata": {},
   "outputs": [
    {
     "data": {
      "application/vnd.jupyter.widget-view+json": {
       "model_id": "d391ab90453b48229ad6a21fa01275fc",
       "version_major": 2,
       "version_minor": 0
      },
      "text/plain": [
       "README.md:   0%|          | 0.00/696 [00:00<?, ?B/s]"
      ]
     },
     "metadata": {},
     "output_type": "display_data"
    },
    {
     "data": {
      "application/vnd.jupyter.widget-view+json": {
       "model_id": "3730216d3b57431c8ee1a68bcdcfecbb",
       "version_major": 2,
       "version_minor": 0
      },
      "text/plain": [
       "train-00000-of-00001.parquet:   0%|          | 0.00/15.8M [00:00<?, ?B/s]"
      ]
     },
     "metadata": {},
     "output_type": "display_data"
    },
    {
     "data": {
      "application/vnd.jupyter.widget-view+json": {
       "model_id": "b49c714641fc425581b93851ef039fb1",
       "version_major": 2,
       "version_minor": 0
      },
      "text/plain": [
       "Generating train split:   0%|          | 0/12853 [00:00<?, ? examples/s]"
      ]
     },
     "metadata": {},
     "output_type": "display_data"
    },
    {
     "data": {
      "application/vnd.jupyter.widget-view+json": {
       "model_id": "d598b494cb8946a788481b16e89db4b8",
       "version_major": 2,
       "version_minor": 0
      },
      "text/plain": [
       "Creating parquet from Arrow format:   0%|          | 0/12 [00:00<?, ?ba/s]"
      ]
     },
     "metadata": {},
     "output_type": "display_data"
    },
    {
     "data": {
      "application/vnd.jupyter.widget-view+json": {
       "model_id": "b86ef93d5f8a4608b000c3307abbb14d",
       "version_major": 2,
       "version_minor": 0
      },
      "text/plain": [
       "Creating parquet from Arrow format:   0%|          | 0/2 [00:00<?, ?ba/s]"
      ]
     },
     "metadata": {},
     "output_type": "display_data"
    },
    {
     "data": {
      "application/vnd.jupyter.widget-view+json": {
       "model_id": "3dc81cf935784260a5285d500d614a92",
       "version_major": 2,
       "version_minor": 0
      },
      "text/plain": [
       "README.md:   0%|          | 0.00/696 [00:00<?, ?B/s]"
      ]
     },
     "metadata": {},
     "output_type": "display_data"
    },
    {
     "data": {
      "application/vnd.jupyter.widget-view+json": {
       "model_id": "5a9c7a0a30384f7d83c6551dd6d72c4f",
       "version_major": 2,
       "version_minor": 0
      },
      "text/plain": [
       "train-00000-of-00001.parquet:   0%|          | 0.00/19.6M [00:00<?, ?B/s]"
      ]
     },
     "metadata": {},
     "output_type": "display_data"
    },
    {
     "data": {
      "application/vnd.jupyter.widget-view+json": {
       "model_id": "d64e892d9bca471b8f1dd79437e9a02e",
       "version_major": 2,
       "version_minor": 0
      },
      "text/plain": [
       "Generating train split:   0%|          | 0/12853 [00:00<?, ? examples/s]"
      ]
     },
     "metadata": {},
     "output_type": "display_data"
    },
    {
     "data": {
      "application/vnd.jupyter.widget-view+json": {
       "model_id": "59caa0d90d2c43d4a0d1624672224e3b",
       "version_major": 2,
       "version_minor": 0
      },
      "text/plain": [
       "Creating parquet from Arrow format:   0%|          | 0/12 [00:00<?, ?ba/s]"
      ]
     },
     "metadata": {},
     "output_type": "display_data"
    },
    {
     "data": {
      "application/vnd.jupyter.widget-view+json": {
       "model_id": "c25e07abd3254225868aa725c8085d6a",
       "version_major": 2,
       "version_minor": 0
      },
      "text/plain": [
       "Creating parquet from Arrow format:   0%|          | 0/2 [00:00<?, ?ba/s]"
      ]
     },
     "metadata": {},
     "output_type": "display_data"
    },
    {
     "data": {
      "application/vnd.jupyter.widget-view+json": {
       "model_id": "6a23da527375408ab03ffd83aa23e395",
       "version_major": 2,
       "version_minor": 0
      },
      "text/plain": [
       "README.md:   0%|          | 0.00/692 [00:00<?, ?B/s]"
      ]
     },
     "metadata": {},
     "output_type": "display_data"
    },
    {
     "data": {
      "application/vnd.jupyter.widget-view+json": {
       "model_id": "937aae9d3f9847e2b4b2da0f738b8d81",
       "version_major": 2,
       "version_minor": 0
      },
      "text/plain": [
       "train-00000-of-00001.parquet:   0%|          | 0.00/3.49M [00:00<?, ?B/s]"
      ]
     },
     "metadata": {},
     "output_type": "display_data"
    },
    {
     "data": {
      "application/vnd.jupyter.widget-view+json": {
       "model_id": "0b296ec3786c45f08430954b16d593f5",
       "version_major": 2,
       "version_minor": 0
      },
      "text/plain": [
       "Generating train split:   0%|          | 0/2493 [00:00<?, ? examples/s]"
      ]
     },
     "metadata": {},
     "output_type": "display_data"
    },
    {
     "data": {
      "application/vnd.jupyter.widget-view+json": {
       "model_id": "868dc49307cf4d3094d79917cabaf298",
       "version_major": 2,
       "version_minor": 0
      },
      "text/plain": [
       "Creating parquet from Arrow format:   0%|          | 0/3 [00:00<?, ?ba/s]"
      ]
     },
     "metadata": {},
     "output_type": "display_data"
    },
    {
     "data": {
      "application/vnd.jupyter.widget-view+json": {
       "model_id": "676a10d81f124aa48b4f5ae3d55c4a21",
       "version_major": 2,
       "version_minor": 0
      },
      "text/plain": [
       "Creating parquet from Arrow format:   0%|          | 0/1 [00:00<?, ?ba/s]"
      ]
     },
     "metadata": {},
     "output_type": "display_data"
    },
    {
     "data": {
      "application/vnd.jupyter.widget-view+json": {
       "model_id": "008f64177f45461fb562ba710ab80979",
       "version_major": 2,
       "version_minor": 0
      },
      "text/plain": [
       "README.md:   0%|          | 0.00/694 [00:00<?, ?B/s]"
      ]
     },
     "metadata": {},
     "output_type": "display_data"
    },
    {
     "data": {
      "application/vnd.jupyter.widget-view+json": {
       "model_id": "f6b971fe316e4914a11cc5f417b5c519",
       "version_major": 2,
       "version_minor": 0
      },
      "text/plain": [
       "train-00000-of-00001.parquet:   0%|          | 0.00/4.25M [00:00<?, ?B/s]"
      ]
     },
     "metadata": {},
     "output_type": "display_data"
    },
    {
     "data": {
      "application/vnd.jupyter.widget-view+json": {
       "model_id": "945a5294d0ea419eb34a15ddd025d25e",
       "version_major": 2,
       "version_minor": 0
      },
      "text/plain": [
       "Generating train split:   0%|          | 0/2493 [00:00<?, ? examples/s]"
      ]
     },
     "metadata": {},
     "output_type": "display_data"
    },
    {
     "data": {
      "application/vnd.jupyter.widget-view+json": {
       "model_id": "e7e776d17a2049568dd3214daeb5f1a9",
       "version_major": 2,
       "version_minor": 0
      },
      "text/plain": [
       "Creating parquet from Arrow format:   0%|          | 0/3 [00:00<?, ?ba/s]"
      ]
     },
     "metadata": {},
     "output_type": "display_data"
    },
    {
     "data": {
      "application/vnd.jupyter.widget-view+json": {
       "model_id": "b06d14e51dbe405685dc35917947e989",
       "version_major": 2,
       "version_minor": 0
      },
      "text/plain": [
       "Creating parquet from Arrow format:   0%|          | 0/1 [00:00<?, ?ba/s]"
      ]
     },
     "metadata": {},
     "output_type": "display_data"
    }
   ],
   "source": [
    "import datasets\n",
    "\n",
    "curr_datasets = [\n",
    "    'Asap7772/d1shs0ap-easy-hintgen-qwen3-4b-lr1e6-verl-mixTrue-nochat',\n",
    "    'Asap7772/d1shs0ap-easy-hintgen-qwen3-4b-lr1e6-verl-mixFalse-nochat',\n",
    "    'Asap7772/d1shs0ap-medium_2500-hintgen-qwen3-4b-lr1e6-verl-mixTrue-nochat',\n",
    "    'Asap7772/d1shs0ap-medium_2500-hintgen-qwen3-4b-lr1e6-verl-mixFalse-nochat',\n",
    "]\n",
    "\n",
    "for dataset in curr_datasets:\n",
    "    ds = datasets.load_dataset(dataset, split='train')\n",
    "    ds = ds.train_test_split(test_size=0.1, seed=42)\n",
    "\n",
    "    which_mix = 'mixTrue' if 'mixTrue' in dataset else 'mixFalse'\n",
    "    if 'easy' in dataset:\n",
    "        base_path = f'/home/anikait.singh/rl_behaviors_verl_stable/data_d1shs0ap-easy-{which_mix}-nochat'\n",
    "    elif 'medium_2500' in dataset:\n",
    "        base_path = f'/home/anikait.singh/rl_behaviors_verl_stable/data_d1shs0ap-medium_2500-{which_mix}-nochat'\n",
    "    else:\n",
    "        raise ValueError(f'Unknown dataset: {dataset}')\n",
    "\n",
    "    ds['train'].to_parquet(f'{base_path}/train.parquet')\n",
    "    ds['test'].to_parquet(f'{base_path}/test.parquet')"
   ]
  },
  {
   "cell_type": "code",
   "execution_count": 1,
   "metadata": {},
   "outputs": [
    {
     "data": {
      "application/vnd.jupyter.widget-view+json": {
       "model_id": "2d1b161647584e7bae5c53b0e18f2f96",
       "version_major": 2,
       "version_minor": 0
      },
      "text/plain": [
       "Creating parquet from Arrow format:   0%|          | 0/12 [00:00<?, ?ba/s]"
      ]
     },
     "metadata": {},
     "output_type": "display_data"
    },
    {
     "data": {
      "application/vnd.jupyter.widget-view+json": {
       "model_id": "c3737f77e19d4cc2bbea515e7a204be0",
       "version_major": 2,
       "version_minor": 0
      },
      "text/plain": [
       "Creating parquet from Arrow format:   0%|          | 0/2 [00:00<?, ?ba/s]"
      ]
     },
     "metadata": {},
     "output_type": "display_data"
    },
    {
     "data": {
      "text/plain": [
       "336348"
      ]
     },
     "execution_count": 1,
     "metadata": {},
     "output_type": "execute_result"
    }
   ],
   "source": [
    "import datasets\n",
    "ds = datasets.load_dataset('Asap7772/d1shs0ap-easy-verl', split='train')\n",
    "ds = ds.train_test_split(test_size=0.1, seed=42)\n",
    "ds['train'].to_parquet(f'/home/anikait.singh/rl_behaviors_verl_stable/data_d1shs0ap-easy-verl/train.parquet')\n",
    "ds['test'].to_parquet(f'/home/anikait.singh/rl_behaviors_verl_stable/data_d1shs0ap-easy-verl/test.parquet')"
   ]
  },
  {
   "cell_type": "code",
   "execution_count": 1,
   "metadata": {},
   "outputs": [
    {
     "data": {
      "application/vnd.jupyter.widget-view+json": {
       "model_id": "9b36ee85b7fa46afb1a5557210bcc4d7",
       "version_major": 2,
       "version_minor": 0
      },
      "text/plain": [
       "README.md:   0%|          | 0.00/693 [00:00<?, ?B/s]"
      ]
     },
     "metadata": {},
     "output_type": "display_data"
    },
    {
     "data": {
      "application/vnd.jupyter.widget-view+json": {
       "model_id": "752d00bff4974d03abd42ab065320b68",
       "version_major": 2,
       "version_minor": 0
      },
      "text/plain": [
       "train-00000-of-00001.parquet:   0%|          | 0.00/1.71M [00:00<?, ?B/s]"
      ]
     },
     "metadata": {},
     "output_type": "display_data"
    },
    {
     "data": {
      "application/vnd.jupyter.widget-view+json": {
       "model_id": "b161d560c4e34914a53449d61a666947",
       "version_major": 2,
       "version_minor": 0
      },
      "text/plain": [
       "Generating train split:   0%|          | 0/12853 [00:00<?, ? examples/s]"
      ]
     },
     "metadata": {},
     "output_type": "display_data"
    },
    {
     "data": {
      "application/vnd.jupyter.widget-view+json": {
       "model_id": "81e376325e4b435f9f2d163a330a6241",
       "version_major": 2,
       "version_minor": 0
      },
      "text/plain": [
       "Creating parquet from Arrow format:   0%|          | 0/12 [00:00<?, ?ba/s]"
      ]
     },
     "metadata": {},
     "output_type": "display_data"
    },
    {
     "data": {
      "application/vnd.jupyter.widget-view+json": {
       "model_id": "bd79859aa2af453a8ae9cb2b95bdcf0f",
       "version_major": 2,
       "version_minor": 0
      },
      "text/plain": [
       "Creating parquet from Arrow format:   0%|          | 0/2 [00:00<?, ?ba/s]"
      ]
     },
     "metadata": {},
     "output_type": "display_data"
    },
    {
     "data": {
      "text/plain": [
       "426368"
      ]
     },
     "execution_count": 1,
     "metadata": {},
     "output_type": "execute_result"
    }
   ],
   "source": [
    "import datasets\n",
    "ds = datasets.load_dataset('Asap7772/d1shs0ap-easy-verl-promptsuffix', split='train')\n",
    "ds = ds.train_test_split(test_size=0.1, seed=42)\n",
    "ds['train'].to_parquet(f'/home/anikait.singh/rl_behaviors_verl_stable/data_d1shs0ap-easy-verl-promptsuffix/train.parquet')\n",
    "ds['test'].to_parquet(f'/home/anikait.singh/rl_behaviors_verl_stable/data_d1shs0ap-easy-verl-promptsuffix/test.parquet')"
   ]
  },
  {
   "cell_type": "code",
   "execution_count": null,
   "metadata": {},
   "outputs": [],
   "source": []
  }
 ],
 "metadata": {
  "kernelspec": {
   "display_name": "verl",
   "language": "python",
   "name": "python3"
  },
  "language_info": {
   "codemirror_mode": {
    "name": "ipython",
    "version": 3
   },
   "file_extension": ".py",
   "mimetype": "text/x-python",
   "name": "python",
   "nbconvert_exporter": "python",
   "pygments_lexer": "ipython3",
   "version": "3.10.0"
  }
 },
 "nbformat": 4,
 "nbformat_minor": 2
}
