{
 "cells": [
  {
   "cell_type": "code",
   "execution_count": 2,
   "metadata": {},
   "outputs": [
    {
     "name": "stderr",
     "output_type": "stream",
     "text": [
      "Setting num_proc from 16 back to 1 for the train split to disable multiprocessing as it only contains one shard.\n",
      "Generating train split: 100%|██████████| 7695/7695 [00:00<00:00, 21411.68 examples/s]\n",
      "Setting num_proc from 16 back to 1 for the test split to disable multiprocessing as it only contains one shard.\n",
      "Generating test split: 100%|██████████| 855/855 [00:00<00:00, 25060.66 examples/s]\n",
      "Creating parquet from Arrow format: 100%|██████████| 8/8 [00:00<00:00, 35.43ba/s]\n",
      "Creating parquet from Arrow format: 100%|██████████| 1/1 [00:00<00:00, 42.97ba/s]\n",
      "Setting num_proc from 16 back to 1 for the train split to disable multiprocessing as it only contains one shard.\n",
      "Generating train split: 100%|██████████| 7695/7695 [00:00<00:00, 35805.84 examples/s]\n",
      "Setting num_proc from 16 back to 1 for the test split to disable multiprocessing as it only contains one shard.\n",
      "Generating test split: 100%|██████████| 855/855 [00:00<00:00, 36918.65 examples/s]\n",
      "Creating parquet from Arrow format: 100%|██████████| 8/8 [00:00<00:00, 71.58ba/s]\n",
      "Creating parquet from Arrow format: 100%|██████████| 1/1 [00:00<00:00, 82.03ba/s]\n",
      "Setting num_proc from 16 back to 1 for the train split to disable multiprocessing as it only contains one shard.\n",
      "Generating train split: 100%|██████████| 4140/4140 [00:00<00:00, 21437.90 examples/s]\n",
      "Setting num_proc from 16 back to 1 for the test split to disable multiprocessing as it only contains one shard.\n",
      "Generating test split: 100%|██████████| 460/460 [00:00<00:00, 22613.45 examples/s]\n",
      "Creating parquet from Arrow format: 100%|██████████| 5/5 [00:00<00:00, 41.28ba/s]\n",
      "Creating parquet from Arrow format: 100%|██████████| 1/1 [00:00<00:00, 109.41ba/s]\n",
      "Setting num_proc from 16 back to 1 for the train split to disable multiprocessing as it only contains one shard.\n",
      "Generating train split: 100%|██████████| 4140/4140 [00:00<00:00, 36385.47 examples/s]\n",
      "Setting num_proc from 16 back to 1 for the test split to disable multiprocessing as it only contains one shard.\n",
      "Generating test split: 100%|██████████| 460/460 [00:00<00:00, 31384.79 examples/s]\n",
      "Creating parquet from Arrow format: 100%|██████████| 5/5 [00:00<00:00, 78.99ba/s]\n",
      "Creating parquet from Arrow format: 100%|██████████| 1/1 [00:00<00:00, 454.37ba/s]\n"
     ]
    }
   ],
   "source": [
    "import datasets\n",
    "import os\n",
    "\n",
    "all_datasets=[\n",
    "    'Asap7772/d1shs0ap-star-data-balanceFalse-nohintFalse',\n",
    "    'Asap7772/d1shs0ap-star-data-balanceFalse-nohintTrue',\n",
    "    'Asap7772/d1shs0ap-star-data-balanceTrue-nohintFalse',\n",
    "    'Asap7772/d1shs0ap-star-data-balanceTrue-nohintTrue',\n",
    "]\n",
    "\n",
    "output_dataset_paths = [\n",
    "    '/iris/u/asap7772/rl_behaviors_verl_stable/data_d1shs0ap-star-data-balanceFalse-nohintFalse/',\n",
    "    '/iris/u/asap7772/rl_behaviors_verl_stable/data_d1shs0ap-star-data-balanceFalse-nohintTrue/',\n",
    "    '/iris/u/asap7772/rl_behaviors_verl_stable/data_d1shs0ap-star-data-balanceTrue-nohintFalse/',\n",
    "    '/iris/u/asap7772/rl_behaviors_verl_stable/data_d1shs0ap-star-data-balanceTrue-nohintTrue/',\n",
    "]\n",
    "\n",
    "for dataset_name, dataset_path in zip(all_datasets, output_dataset_paths):\n",
    "    dataset = datasets.load_dataset(dataset_name, num_proc=os.cpu_count())\n",
    "    os.makedirs(dataset_path, exist_ok=True)\n",
    "    dataset['train'].to_parquet(os.path.join(dataset_path, 'train.parquet'))\n",
    "    dataset['test'].to_parquet(os.path.join(dataset_path, 'test.parquet'))"
   ]
  },
  {
   "cell_type": "code",
   "execution_count": null,
   "metadata": {},
   "outputs": [],
   "source": []
  }
 ],
 "metadata": {
  "language_info": {
   "name": "python"
  }
 },
 "nbformat": 4,
 "nbformat_minor": 2
}
