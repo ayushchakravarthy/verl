{
 "cells": [
  {
   "cell_type": "code",
   "execution_count": 1,
   "metadata": {},
   "outputs": [
    {
     "data": {
      "text/plain": [
       "Dataset({\n",
       "    features: ['problem', 'solution', 'answer'],\n",
       "    num_rows: 4428\n",
       "})"
      ]
     },
     "execution_count": 1,
     "metadata": {},
     "output_type": "execute_result"
    }
   ],
   "source": [
    "import datasets\n",
    "import os\n",
    "\n",
    "ds_train = datasets.load_dataset('KbsdJames/Omni-MATH', split='test')\n",
    "# keep only problem, solution, answer\n",
    "cols = ds_train.column_names\n",
    "remaining_cols = [col for col in cols if col not in ['problem', 'solution', 'answer']]\n",
    "ds_train = ds_train.remove_columns(remaining_cols)\n",
    "ds_train"
   ]
  },
  {
   "cell_type": "code",
   "execution_count": 2,
   "metadata": {},
   "outputs": [
    {
     "name": "stdout",
     "output_type": "stream",
     "text": [
      "Let $ n(\\ge2) $ be a positive integer. Find the minimum $ m $, so that there exists $x_{ij}(1\\le i ,j\\le n)$ satisfying:\n",
      "(1)For every $1\\le i ,j\\le n, x_{ij}=max\\{x_{i1},x_{i2},...,x_{ij}\\} $ or $ x_{ij}=max\\{x_{1j},x_{2j},...,x_{ij}\\}.$\n",
      "(2)For every $1\\le i \\le n$, there are at most $m$ indices $k$ with $x_{ik}=max\\{x_{i1},x_{i2},...,x_{ik}\\}.$\n",
      "(3)For every $1\\le j \\le n$, there are at most $m$ indices $k$ with $x_{kj}=max\\{x_{1j},x_{2j},...,x_{kj}\\}.$\n",
      "1 + \\left\\lceil \\frac{n}{2} \\right\\rceil\n"
     ]
    }
   ],
   "source": [
    "print(ds_train['problem'][0])\n",
    "print(ds_train['answer'][0])"
   ]
  },
  {
   "cell_type": "code",
   "execution_count": 3,
   "metadata": {},
   "outputs": [
    {
     "data": {
      "text/plain": [
       "Dataset({\n",
       "    features: ['problem', 'answer', 'solution'],\n",
       "    num_rows: 30\n",
       "})"
      ]
     },
     "execution_count": 3,
     "metadata": {},
     "output_type": "execute_result"
    }
   ],
   "source": [
    "import os\n",
    "ds_test = datasets.load_dataset('active-reasoning/math_reasoning_benchmark', split='AIME2025')\n",
    "def add_empty_solution(example):\n",
    "    example['solution'] = ''\n",
    "    return example\n",
    "ds_test = ds_test.map(add_empty_solution, batched=False, num_proc=os.cpu_count())\n",
    "ds_test"
   ]
  },
  {
   "cell_type": "code",
   "execution_count": 4,
   "metadata": {},
   "outputs": [],
   "source": [
    "from transformers import AutoTokenizer\n",
    "tokenizer = AutoTokenizer.from_pretrained('Qwen/Qwen3-4B-Base')\n",
    "\n",
    "def generate_chat(query):\n",
    "    dialogue = [\n",
    "        {\n",
    "            \"role\": \"user\",\n",
    "            \"content\": f\"\"\"Given the following math problem, generate a list of insightful hints that help guide a student toward solving the problem. Each hint should be wrapped in a <note> block with the following structure:\n",
    "\n",
    "<note>\n",
    "<description>[Brief explanation of a key idea or technique relevant to the problem]</description>\n",
    "<example>[Concrete illustrative example that demonstrates the idea in action]</example>\n",
    "</note>\n",
    "Combine all hint blocks inside a <notes> element. Your goal is to help the student reason through the problem step-by-step by surfacing useful strategies, intermediate goals, or simplifications.\n",
    "\n",
    "Problem: {query}\"\"\"\n",
    "        }\n",
    "    ]\n",
    "    dialogue = tokenizer.apply_chat_template(dialogue, tokenize=False, add_generation_prompt=True)\n",
    "    return dialogue"
   ]
  },
  {
   "cell_type": "code",
   "execution_count": 5,
   "metadata": {},
   "outputs": [
    {
     "name": "stdout",
     "output_type": "stream",
     "text": [
      "<|im_start|>user\n",
      "Given the following math problem, generate a list of insightful hints that help guide a student toward solving the problem. Each hint should be wrapped in a <note> block with the following structure:\n",
      "\n",
      "<note>\n",
      "<description>[Brief explanation of a key idea or technique relevant to the problem]</description>\n",
      "<example>[Concrete illustrative example that demonstrates the idea in action]</example>\n",
      "</note>\n",
      "Combine all hint blocks inside a <notes> element. Your goal is to help the student reason through the problem step-by-step by surfacing useful strategies, intermediate goals, or simplifications.\n",
      "\n",
      "Problem: Let $ n(\\ge2) $ be a positive integer. Find the minimum $ m $, so that there exists $x_{ij}(1\\le i ,j\\le n)$ satisfying:\n",
      "(1)For every $1\\le i ,j\\le n, x_{ij}=max\\{x_{i1},x_{i2},...,x_{ij}\\} $ or $ x_{ij}=max\\{x_{1j},x_{2j},...,x_{ij}\\}.$\n",
      "(2)For every $1\\le i \\le n$, there are at most $m$ indices $k$ with $x_{ik}=max\\{x_{i1},x_{i2},...,x_{ik}\\}.$\n",
      "(3)For every $1\\le j \\le n$, there are at most $m$ indices $k$ with $x_{kj}=max\\{x_{1j},x_{2j},...,x_{kj}\\}.$<|im_end|>\n",
      "<|im_start|>assistant\n",
      "\n"
     ]
    }
   ],
   "source": [
    "print(generate_chat(ds_train['problem'][0]))"
   ]
  },
  {
   "cell_type": "code",
   "execution_count": 6,
   "metadata": {},
   "outputs": [
    {
     "data": {
      "application/vnd.jupyter.widget-view+json": {
       "model_id": "fccd3ba8ecf549d88d725f18b8a814e6",
       "version_major": 2,
       "version_minor": 0
      },
      "text/plain": [
       "Map:   0%|          | 0/4428 [00:00<?, ? examples/s]"
      ]
     },
     "metadata": {},
     "output_type": "display_data"
    },
    {
     "data": {
      "text/plain": [
       "{'data_source': '',\n",
       " 'prompt': [{'content': \"<|im_start|>user\\nGiven the following math problem, generate a list of insightful hints that help guide a student toward solving the problem. Each hint should be wrapped in a <note> block with the following structure:\\n\\n<note>\\n<description>[Brief explanation of a key idea or technique relevant to the problem]</description>\\n<example>[Concrete illustrative example that demonstrates the idea in action]</example>\\n</note>\\nCombine all hint blocks inside a <notes> element. Your goal is to help the student reason through the problem step-by-step by surfacing useful strategies, intermediate goals, or simplifications.\\n\\nProblem: Let $ n(\\\\ge2) $ be a positive integer. Find the minimum $ m $, so that there exists $x_{ij}(1\\\\le i ,j\\\\le n)$ satisfying:\\n(1)For every $1\\\\le i ,j\\\\le n, x_{ij}=max\\\\{x_{i1},x_{i2},...,x_{ij}\\\\} $ or $ x_{ij}=max\\\\{x_{1j},x_{2j},...,x_{ij}\\\\}.$\\n(2)For every $1\\\\le i \\\\le n$, there are at most $m$ indices $k$ with $x_{ik}=max\\\\{x_{i1},x_{i2},...,x_{ik}\\\\}.$\\n(3)For every $1\\\\le j \\\\le n$, there are at most $m$ indices $k$ with $x_{kj}=max\\\\{x_{1j},x_{2j},...,x_{kj}\\\\}.$ Let's think step by step and output the final answer within \\\\boxed{}.<|im_end|>\\n<|im_start|>assistant\\n\",\n",
       "   'role': 'user'}],\n",
       " 'ability': 'math',\n",
       " 'reward_model': {'ground_truth': '1 + \\\\left\\\\lceil \\\\frac{n}{2} \\\\right\\\\rceil',\n",
       "  'style': 'rule'},\n",
       " 'extra_info': {'answer': '1 + \\\\left\\\\lceil \\\\frac{n}{2} \\\\right\\\\rceil',\n",
       "  'index': 0,\n",
       "  'problem': \"Let $ n(\\\\ge2) $ be a positive integer. Find the minimum $ m $, so that there exists $x_{ij}(1\\\\le i ,j\\\\le n)$ satisfying:\\n(1)For every $1\\\\le i ,j\\\\le n, x_{ij}=max\\\\{x_{i1},x_{i2},...,x_{ij}\\\\} $ or $ x_{ij}=max\\\\{x_{1j},x_{2j},...,x_{ij}\\\\}.$\\n(2)For every $1\\\\le i \\\\le n$, there are at most $m$ indices $k$ with $x_{ik}=max\\\\{x_{i1},x_{i2},...,x_{ik}\\\\}.$\\n(3)For every $1\\\\le j \\\\le n$, there are at most $m$ indices $k$ with $x_{kj}=max\\\\{x_{1j},x_{2j},...,x_{kj}\\\\}.$ Let's think step by step and output the final answer within \\\\boxed{}.\",\n",
       "  'solution': '\\nLet \\\\( n (\\\\geq 2) \\\\) be a positive integer. We aim to find the minimum \\\\( m \\\\) such that there exists \\\\( x_{ij} \\\\) (for \\\\( 1 \\\\leq i, j \\\\leq n \\\\)) satisfying the following conditions:\\n1. For every \\\\( 1 \\\\leq i, j \\\\leq n \\\\), \\\\( x_{ij} = \\\\max \\\\{ x_{i1}, x_{i2}, \\\\ldots, x_{ij} \\\\} \\\\) or \\\\( x_{ij} = \\\\max \\\\{ x_{1j}, x_{2j}, \\\\ldots, x_{ij} \\\\} \\\\).\\n2. For every \\\\( 1 \\\\leq i \\\\leq n \\\\), there are at most \\\\( m \\\\) indices \\\\( k \\\\) such that \\\\( x_{ik} = \\\\max \\\\{ x_{i1}, x_{i2}, \\\\ldots, x_{ik} \\\\} \\\\).\\n3. For every \\\\( 1 \\\\leq j \\\\leq n \\\\), there are at most \\\\( m \\\\) indices \\\\( k \\\\) such that \\\\( x_{kj} = \\\\max \\\\{ x_{1j}, x_{2j}, \\\\ldots, x_{kj} \\\\} \\\\).\\n\\nTo solve this, we need to consider the structure and constraints given by the problem. The solution involves ensuring that the maximum number of indices \\\\( k \\\\) for which \\\\( x_{ik} \\\\) or \\\\( x_{kj} \\\\) is the maximum is minimized.\\n\\nBy analyzing the constraints and constructing examples, it can be shown that the minimum \\\\( m \\\\) satisfying the conditions is:\\n\\\\[\\nm = 1 + \\\\left\\\\lceil \\\\frac{n}{2} \\\\right\\\\rceil.\\n\\\\]\\n\\nThus, the minimum value of \\\\( m \\\\) is:\\n\\\\[\\n\\\\boxed{1 + \\\\left\\\\lceil \\\\frac{n}{2} \\\\right\\\\rceil}.\\n\\\\]',\n",
       "  'split': 'train'}}"
      ]
     },
     "execution_count": 6,
     "metadata": {},
     "output_type": "execute_result"
    }
   ],
   "source": [
    "from typing import Dict, Any, Optional\n",
    "def make_map_fn(split: str):\n",
    "    \"\"\"Create a mapping function to process dataset examples.\n",
    "\n",
    "    Args:\n",
    "        split: Dataset split name ('train' or 'test')\n",
    "\n",
    "    Returns:\n",
    "        Function that processes individual dataset examples\n",
    "    \"\"\"\n",
    "    def process_fn(example: Dict[str, Any], idx: int) -> Optional[Dict[str, Any]]:\n",
    "        question = example.pop('problem')\n",
    "        instruction = \"Let's think step by step and output the final answer within \\\\boxed{}.\"\n",
    "        question = f\"{question} {instruction}\"\n",
    "        answer = example.pop('answer')\n",
    "        solution = example.pop('solution')\n",
    "        formatted_question = generate_chat(question)\n",
    "\n",
    "        data = {\n",
    "            \"data_source\": \"\",\n",
    "            \"prompt\": [{\n",
    "                \"role\": \"user\",\n",
    "                \"content\": formatted_question\n",
    "            }],\n",
    "            \"ability\": \"math\",\n",
    "            \"reward_model\": {\n",
    "                \"style\": \"rule\",\n",
    "                \"ground_truth\": answer\n",
    "            },\n",
    "            \"extra_info\": {\n",
    "                'split': split,\n",
    "                'index': idx,\n",
    "                'problem': question,\n",
    "                'solution': solution,\n",
    "                'answer': answer\n",
    "            }\n",
    "        }\n",
    "        return data\n",
    "    return process_fn\n",
    "\n",
    "ds_train = ds_train.map(function=make_map_fn('train'), with_indices=True)\n",
    "ds_test = ds_test.map(function=make_map_fn('test'), with_indices=True)\n",
    "\n",
    "ds_train[0]"
   ]
  },
  {
   "cell_type": "code",
   "execution_count": 7,
   "metadata": {},
   "outputs": [
    {
     "data": {
      "text/plain": [
       "{'data_source': '',\n",
       " 'prompt': [{'content': \"<|im_start|>user\\nGiven the following math problem, generate a list of insightful hints that help guide a student toward solving the problem. Each hint should be wrapped in a <note> block with the following structure:\\n\\n<note>\\n<description>[Brief explanation of a key idea or technique relevant to the problem]</description>\\n<example>[Concrete illustrative example that demonstrates the idea in action]</example>\\n</note>\\nCombine all hint blocks inside a <notes> element. Your goal is to help the student reason through the problem step-by-step by surfacing useful strategies, intermediate goals, or simplifications.\\n\\nProblem: Find the sum of all integer bases $b>9$ for which $17_b$ is a divisor of $97_b.$ Let's think step by step and output the final answer within \\\\boxed{}.<|im_end|>\\n<|im_start|>assistant\\n\",\n",
       "   'role': 'user'}],\n",
       " 'ability': 'math',\n",
       " 'reward_model': {'ground_truth': '70', 'style': 'rule'},\n",
       " 'extra_info': {'answer': '70',\n",
       "  'index': 0,\n",
       "  'problem': \"Find the sum of all integer bases $b>9$ for which $17_b$ is a divisor of $97_b.$ Let's think step by step and output the final answer within \\\\boxed{}.\",\n",
       "  'solution': '',\n",
       "  'split': 'test'}}"
      ]
     },
     "execution_count": 7,
     "metadata": {},
     "output_type": "execute_result"
    }
   ],
   "source": [
    "ds_test[0]"
   ]
  },
  {
   "cell_type": "code",
   "execution_count": 8,
   "metadata": {},
   "outputs": [
    {
     "data": {
      "application/vnd.jupyter.widget-view+json": {
       "model_id": "fa818baf383944b98fec9fc917b302b4",
       "version_major": 2,
       "version_minor": 0
      },
      "text/plain": [
       "Creating parquet from Arrow format:   0%|          | 0/5 [00:00<?, ?ba/s]"
      ]
     },
     "metadata": {},
     "output_type": "display_data"
    },
    {
     "data": {
      "application/vnd.jupyter.widget-view+json": {
       "model_id": "c3b623d890744d2d94f52455963ea257",
       "version_major": 2,
       "version_minor": 0
      },
      "text/plain": [
       "Creating parquet from Arrow format:   0%|          | 0/1 [00:00<?, ?ba/s]"
      ]
     },
     "metadata": {},
     "output_type": "display_data"
    },
    {
     "data": {
      "text/plain": [
       "54728"
      ]
     },
     "execution_count": 8,
     "metadata": {},
     "output_type": "execute_result"
    }
   ],
   "source": [
    "base_path = '/home/anikait.singh/rl_behaviors_verl_stable/data_omnimath_rl_hintgen'\n",
    "os.makedirs(base_path, exist_ok=True)\n",
    "ds_train.to_parquet(os.path.join(base_path, 'train.parquet'))\n",
    "ds_test.to_parquet(os.path.join(base_path, 'test.parquet'))"
   ]
  },
  {
   "cell_type": "code",
   "execution_count": null,
   "metadata": {},
   "outputs": [],
   "source": []
  }
 ],
 "metadata": {
  "kernelspec": {
   "display_name": "verl",
   "language": "python",
   "name": "python3"
  },
  "language_info": {
   "codemirror_mode": {
    "name": "ipython",
    "version": 3
   },
   "file_extension": ".py",
   "mimetype": "text/x-python",
   "name": "python",
   "nbconvert_exporter": "python",
   "pygments_lexer": "ipython3",
   "version": "3.10.0"
  }
 },
 "nbformat": 4,
 "nbformat_minor": 2
}
