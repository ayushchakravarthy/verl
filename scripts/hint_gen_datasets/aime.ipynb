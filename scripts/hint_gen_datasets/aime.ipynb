{
 "cells": [
  {
   "cell_type": "code",
   "execution_count": 1,
   "metadata": {},
   "outputs": [
    {
     "data": {
      "text/plain": [
       "Dataset({\n",
       "    features: ['problem', 'answer', 'solution'],\n",
       "    num_rows: 919\n",
       "})"
      ]
     },
     "execution_count": 1,
     "metadata": {},
     "output_type": "execute_result"
    }
   ],
   "source": [
    "import datasets\n",
    "import os\n",
    "\n",
    "ds_train = datasets.load_dataset('active-reasoning/AIME', split='train')\n",
    "def add_empty_solution(example):\n",
    "    example['solution'] = ''\n",
    "    return example\n",
    "# keep only problem, solution, answer\n",
    "cols = ds_train.column_names\n",
    "remaining_cols = [col for col in cols if col not in ['problem', 'solution', 'answer']]\n",
    "ds_train = ds_train.map(add_empty_solution, batched=False, num_proc=os.cpu_count(), remove_columns=remaining_cols)\n",
    "ds_train"
   ]
  },
  {
   "cell_type": "code",
   "execution_count": 2,
   "metadata": {},
   "outputs": [
    {
     "name": "stdout",
     "output_type": "stream",
     "text": [
      "Let $x$ , $y$ and $z$ all exceed $1$ and let $w$ be a positive number such that $\\log_xw=24$ , $\\log_y w = 40$ and $\\log_{xyz}w=12$ . Find $\\log_zw$ .\n",
      "60\n"
     ]
    }
   ],
   "source": [
    "print(ds_train['problem'][0])\n",
    "print(ds_train['answer'][0])"
   ]
  },
  {
   "cell_type": "code",
   "execution_count": 3,
   "metadata": {},
   "outputs": [
    {
     "data": {
      "text/plain": [
       "Dataset({\n",
       "    features: ['problem', 'answer', 'solution'],\n",
       "    num_rows: 30\n",
       "})"
      ]
     },
     "execution_count": 3,
     "metadata": {},
     "output_type": "execute_result"
    }
   ],
   "source": [
    "import os\n",
    "ds_test = datasets.load_dataset('active-reasoning/math_reasoning_benchmark', split='AIME2025')\n",
    "def add_empty_solution(example):\n",
    "    example['solution'] = ''\n",
    "    return example\n",
    "ds_test = ds_test.map(add_empty_solution, batched=False, num_proc=os.cpu_count())\n",
    "ds_test"
   ]
  },
  {
   "cell_type": "code",
   "execution_count": 4,
   "metadata": {},
   "outputs": [],
   "source": [
    "from transformers import AutoTokenizer\n",
    "tokenizer = AutoTokenizer.from_pretrained('Qwen/Qwen3-4B-Base')\n",
    "\n",
    "def generate_chat(query):\n",
    "    dialogue = [\n",
    "        {\n",
    "            \"role\": \"user\",\n",
    "            \"content\": f\"\"\"Given the following math problem, generate a list of insightful hints that help guide a student toward solving the problem. Each hint should be wrapped in a <note> block with the following structure:\n",
    "\n",
    "<note>\n",
    "<description>[Brief explanation of a key idea or technique relevant to the problem]</description>\n",
    "<example>[Concrete illustrative example that demonstrates the idea in action]</example>\n",
    "</note>\n",
    "Combine all hint blocks inside a <notes> element. Your goal is to help the student reason through the problem step-by-step by surfacing useful strategies, intermediate goals, or simplifications.\n",
    "\n",
    "Problem: {query}\"\"\"\n",
    "        }\n",
    "    ]\n",
    "    dialogue = tokenizer.apply_chat_template(dialogue, tokenize=False, add_generation_prompt=True)\n",
    "    return dialogue"
   ]
  },
  {
   "cell_type": "code",
   "execution_count": 5,
   "metadata": {},
   "outputs": [
    {
     "name": "stdout",
     "output_type": "stream",
     "text": [
      "<|im_start|>user\n",
      "Given the following math problem, generate a list of insightful hints that help guide a student toward solving the problem. Each hint should be wrapped in a <note> block with the following structure:\n",
      "\n",
      "<note>\n",
      "<description>[Brief explanation of a key idea or technique relevant to the problem]</description>\n",
      "<example>[Concrete illustrative example that demonstrates the idea in action]</example>\n",
      "</note>\n",
      "Combine all hint blocks inside a <notes> element. Your goal is to help the student reason through the problem step-by-step by surfacing useful strategies, intermediate goals, or simplifications.\n",
      "\n",
      "Problem: Let $x$ , $y$ and $z$ all exceed $1$ and let $w$ be a positive number such that $\\log_xw=24$ , $\\log_y w = 40$ and $\\log_{xyz}w=12$ . Find $\\log_zw$ .<|im_end|>\n",
      "<|im_start|>assistant\n",
      "\n"
     ]
    }
   ],
   "source": [
    "print(generate_chat(ds_train['problem'][0]))"
   ]
  },
  {
   "cell_type": "code",
   "execution_count": 6,
   "metadata": {},
   "outputs": [
    {
     "data": {
      "application/vnd.jupyter.widget-view+json": {
       "model_id": "3d498744755c43be86c334902e42093f",
       "version_major": 2,
       "version_minor": 0
      },
      "text/plain": [
       "Map:   0%|          | 0/919 [00:00<?, ? examples/s]"
      ]
     },
     "metadata": {},
     "output_type": "display_data"
    },
    {
     "data": {
      "application/vnd.jupyter.widget-view+json": {
       "model_id": "ae2b33a3d08e46ba8275cecdda2ce443",
       "version_major": 2,
       "version_minor": 0
      },
      "text/plain": [
       "Map:   0%|          | 0/30 [00:00<?, ? examples/s]"
      ]
     },
     "metadata": {},
     "output_type": "display_data"
    },
    {
     "data": {
      "text/plain": [
       "{'data_source': '',\n",
       " 'prompt': [{'content': \"<|im_start|>user\\nGiven the following math problem, generate a list of insightful hints that help guide a student toward solving the problem. Each hint should be wrapped in a <note> block with the following structure:\\n\\n<note>\\n<description>[Brief explanation of a key idea or technique relevant to the problem]</description>\\n<example>[Concrete illustrative example that demonstrates the idea in action]</example>\\n</note>\\nCombine all hint blocks inside a <notes> element. Your goal is to help the student reason through the problem step-by-step by surfacing useful strategies, intermediate goals, or simplifications.\\n\\nProblem: Let $x$ , $y$ and $z$ all exceed $1$ and let $w$ be a positive number such that $\\\\log_xw=24$ , $\\\\log_y w = 40$ and $\\\\log_{xyz}w=12$ . Find $\\\\log_zw$ . Let's think step by step and output the final answer within \\\\boxed{}.<|im_end|>\\n<|im_start|>assistant\\n\",\n",
       "   'role': 'user'}],\n",
       " 'ability': 'math',\n",
       " 'reward_model': {'ground_truth': '60', 'style': 'rule'},\n",
       " 'extra_info': {'answer': '60',\n",
       "  'index': 0,\n",
       "  'problem': \"Let $x$ , $y$ and $z$ all exceed $1$ and let $w$ be a positive number such that $\\\\log_xw=24$ , $\\\\log_y w = 40$ and $\\\\log_{xyz}w=12$ . Find $\\\\log_zw$ . Let's think step by step and output the final answer within \\\\boxed{}.\",\n",
       "  'solution': '',\n",
       "  'split': 'train'}}"
      ]
     },
     "execution_count": 6,
     "metadata": {},
     "output_type": "execute_result"
    }
   ],
   "source": [
    "from typing import Dict, Any, Optional\n",
    "def make_map_fn(split: str):\n",
    "    \"\"\"Create a mapping function to process dataset examples.\n",
    "\n",
    "    Args:\n",
    "        split: Dataset split name ('train' or 'test')\n",
    "\n",
    "    Returns:\n",
    "        Function that processes individual dataset examples\n",
    "    \"\"\"\n",
    "    def process_fn(example: Dict[str, Any], idx: int) -> Optional[Dict[str, Any]]:\n",
    "        question = example.pop('problem')\n",
    "        instruction = \"Let's think step by step and output the final answer within \\\\boxed{}.\"\n",
    "        question = f\"{question} {instruction}\"\n",
    "        answer = example.pop('answer')\n",
    "        solution = example.pop('solution')\n",
    "        formatted_question = generate_chat(question)\n",
    "\n",
    "        data = {\n",
    "            \"data_source\": \"\",\n",
    "            \"prompt\": [{\n",
    "                \"role\": \"user\",\n",
    "                \"content\": formatted_question\n",
    "            }],\n",
    "            \"ability\": \"math\",\n",
    "            \"reward_model\": {\n",
    "                \"style\": \"rule\",\n",
    "                \"ground_truth\": answer\n",
    "            },\n",
    "            \"extra_info\": {\n",
    "                'split': split,\n",
    "                'index': idx,\n",
    "                'problem': question,\n",
    "                'solution': solution,\n",
    "                'answer': answer\n",
    "            }\n",
    "        }\n",
    "        return data\n",
    "    return process_fn\n",
    "\n",
    "ds_train = ds_train.map(function=make_map_fn('train'), with_indices=True)\n",
    "ds_test = ds_test.map(function=make_map_fn('test'), with_indices=True)\n",
    "\n",
    "ds_train[0]"
   ]
  },
  {
   "cell_type": "code",
   "execution_count": 7,
   "metadata": {},
   "outputs": [
    {
     "data": {
      "text/plain": [
       "{'data_source': '',\n",
       " 'prompt': [{'content': \"<|im_start|>user\\nGiven the following math problem, generate a list of insightful hints that help guide a student toward solving the problem. Each hint should be wrapped in a <note> block with the following structure:\\n\\n<note>\\n<description>[Brief explanation of a key idea or technique relevant to the problem]</description>\\n<example>[Concrete illustrative example that demonstrates the idea in action]</example>\\n</note>\\nCombine all hint blocks inside a <notes> element. Your goal is to help the student reason through the problem step-by-step by surfacing useful strategies, intermediate goals, or simplifications.\\n\\nProblem: Find the sum of all integer bases $b>9$ for which $17_b$ is a divisor of $97_b.$ Let's think step by step and output the final answer within \\\\boxed{}.<|im_end|>\\n<|im_start|>assistant\\n\",\n",
       "   'role': 'user'}],\n",
       " 'ability': 'math',\n",
       " 'reward_model': {'ground_truth': '70', 'style': 'rule'},\n",
       " 'extra_info': {'answer': '70',\n",
       "  'index': 0,\n",
       "  'problem': \"Find the sum of all integer bases $b>9$ for which $17_b$ is a divisor of $97_b.$ Let's think step by step and output the final answer within \\\\boxed{}.\",\n",
       "  'solution': '',\n",
       "  'split': 'test'}}"
      ]
     },
     "execution_count": 7,
     "metadata": {},
     "output_type": "execute_result"
    }
   ],
   "source": [
    "ds_test[0]"
   ]
  },
  {
   "cell_type": "code",
   "execution_count": 8,
   "metadata": {},
   "outputs": [
    {
     "data": {
      "application/vnd.jupyter.widget-view+json": {
       "model_id": "a578b86533fe4defb8ccd3d123be1001",
       "version_major": 2,
       "version_minor": 0
      },
      "text/plain": [
       "Creating parquet from Arrow format:   0%|          | 0/1 [00:00<?, ?ba/s]"
      ]
     },
     "metadata": {},
     "output_type": "display_data"
    },
    {
     "data": {
      "application/vnd.jupyter.widget-view+json": {
       "model_id": "a3517651c8c84c57b597907d1bf367ef",
       "version_major": 2,
       "version_minor": 0
      },
      "text/plain": [
       "Creating parquet from Arrow format:   0%|          | 0/1 [00:00<?, ?ba/s]"
      ]
     },
     "metadata": {},
     "output_type": "display_data"
    },
    {
     "data": {
      "text/plain": [
       "54728"
      ]
     },
     "execution_count": 8,
     "metadata": {},
     "output_type": "execute_result"
    }
   ],
   "source": [
    "base_path = '/home/anikait.singh/rl_behaviors_verl_stable/data_aime_rl_hintgen'\n",
    "os.makedirs(base_path, exist_ok=True)\n",
    "ds_train.to_parquet(os.path.join(base_path, 'train.parquet'))\n",
    "ds_test.to_parquet(os.path.join(base_path, 'test.parquet'))"
   ]
  },
  {
   "cell_type": "code",
   "execution_count": null,
   "metadata": {},
   "outputs": [],
   "source": []
  }
 ],
 "metadata": {
  "kernelspec": {
   "display_name": "verl",
   "language": "python",
   "name": "python3"
  },
  "language_info": {
   "codemirror_mode": {
    "name": "ipython",
    "version": 3
   },
   "file_extension": ".py",
   "mimetype": "text/x-python",
   "name": "python",
   "nbconvert_exporter": "python",
   "pygments_lexer": "ipython3",
   "version": "3.10.0"
  }
 },
 "nbformat": 4,
 "nbformat_minor": 2
}
